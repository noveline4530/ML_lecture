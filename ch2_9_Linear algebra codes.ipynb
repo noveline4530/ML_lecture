{
 "cells": [
  {
   "cell_type": "markdown",
   "metadata": {},
   "source": [
    "## Vector representation of python\n",
    "--------------------\n",
    "- Vector를 파이썬으로 표시하는 다양한 방법 존재\n",
    "```\n",
    "vector_a = [1,2,10] # List로 표현했을 경우\n",
    "vector_b = (1,2,10) # Tuple로 표현했을 경우\n",
    "vector_c = {'x':1, 'y':1, 'z':10} # dict로 표현했을 경우\n",
    "print(vector_a, vector_b, vector_c)\n",
    "```\n",
    "- 최선의 방법은 없음\n",
    "- 값의 변경 유무, 속성값 유무에 따라 선택할 수 있음\n",
    "- 본 수업에서는 기본적으로 list로 vector연산 실시"
   ]
  },
  {
   "cell_type": "code",
   "execution_count": 1,
   "metadata": {},
   "outputs": [
    {
     "name": "stdout",
     "output_type": "stream",
     "text": [
      "[7, 10]\n"
     ]
    }
   ],
   "source": [
    "u = [2,2]\n",
    "v = [2,3]\n",
    "z = [3,5]\n",
    "result = []\n",
    "for i in range(len(u)):\n",
    "    result.append(u[i]+v[i]+z[i])\n",
    "\n",
    "print(result) \n",
    "# 이런 코드는 쓰면 안됨, 파이썬 답지 못하고 안 아름다움"
   ]
  },
  {
   "cell_type": "code",
   "execution_count": 2,
   "metadata": {},
   "outputs": [
    {
     "name": "stdout",
     "output_type": "stream",
     "text": [
      "[7, 10]\n"
     ]
    }
   ],
   "source": [
    "u = [2,2]\n",
    "v = [2,3]\n",
    "z = [3,5]\n",
    "result = [sum(t) for t in zip(u,v,z)]\n",
    "print(result)"
   ]
  },
  {
   "cell_type": "markdown",
   "metadata": {},
   "source": [
    "### Vector의 계산: Scalar-Vector product"
   ]
  },
  {
   "cell_type": "code",
   "execution_count": 4,
   "metadata": {},
   "outputs": [
    {
     "data": {
      "text/plain": [
       "[25, 35, 45]"
      ]
     },
     "execution_count": 4,
     "metadata": {},
     "output_type": "execute_result"
    }
   ],
   "source": [
    "u = [1, 2, 3]\n",
    "v = [4, 5, 6]\n",
    "a = 5\n",
    "[5 * sum(z) for z in zip(u,v)]"
   ]
  },
  {
   "cell_type": "markdown",
   "metadata": {},
   "source": [
    "### Matrix의 계산: Matrix addition"
   ]
  },
  {
   "cell_type": "code",
   "execution_count": 7,
   "metadata": {},
   "outputs": [
    {
     "name": "stdout",
     "output_type": "stream",
     "text": [
      "[[8, 14], [10, 12]]\n"
     ]
    }
   ],
   "source": [
    "matrix_a = [[3,6], [4,5]]\n",
    "matrix_b = [[5,8], [6,7]]\n",
    "result = [[sum(row) for row in zip(*t)]\n",
    "              for t in zip(matrix_a, matrix_b)]\n",
    "print(result)"
   ]
  },
  {
   "cell_type": "markdown",
   "metadata": {},
   "source": [
    "### Matrix의 계산; Matrix Product"
   ]
  },
  {
   "cell_type": "code",
   "execution_count": 10,
   "metadata": {},
   "outputs": [
    {
     "name": "stdout",
     "output_type": "stream",
     "text": [
      "[[5, 8], [5, 6]]\n"
     ]
    }
   ],
   "source": [
    "matrix_a = [[1,1,2], [2,1,1]]\n",
    "matrix_b = [[1,1], [2,1], [1,3]]\n",
    "result = [[sum(a*b for a, b in zip(row_a, column_b)) \\\n",
    "             for column_b in zip(*matrix_b)] for row_a in matrix_a]\n",
    "\n",
    "print(result)"
   ]
  }
 ],
 "metadata": {
  "kernelspec": {
   "display_name": "Python 3",
   "language": "python",
   "name": "python3"
  },
  "language_info": {
   "codemirror_mode": {
    "name": "ipython",
    "version": 3
   },
   "file_extension": ".py",
   "mimetype": "text/x-python",
   "name": "python",
   "nbconvert_exporter": "python",
   "pygments_lexer": "ipython3",
   "version": "3.6.5"
  }
 },
 "nbformat": 4,
 "nbformat_minor": 2
}
