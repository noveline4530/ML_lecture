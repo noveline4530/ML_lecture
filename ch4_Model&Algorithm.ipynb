{
 "cells": [
  {
   "cell_type": "markdown",
   "metadata": {},
   "source": [
    "### Model과 algorithm\n",
    "- 모델을 학습할 때 영향을 주는 것들\n",
    "- y값: 종속변수, x값:독립변수, y = ax+b(일반적)\n",
    "- x값은 하나가 아님\n",
    "- 피처라고 얘기함, 독립변수, input 변수, column을 의미\n",
    "- x값을 묶어서 Feature vector로 표현함\n",
    "- 한 row는 instance, tuple로도 표현\n",
    "- 데이터 핸들링에는 Pandas,numpy가 쓰임"
   ]
  }
 ],
 "metadata": {
  "kernelspec": {
   "display_name": "Python 3",
   "language": "python",
   "name": "python3"
  },
  "language_info": {
   "codemirror_mode": {
    "name": "ipython",
    "version": 3
   },
   "file_extension": ".py",
   "mimetype": "text/x-python",
   "name": "python",
   "nbconvert_exporter": "python",
   "pygments_lexer": "ipython3",
   "version": "3.6.5"
  }
 },
 "nbformat": 4,
 "nbformat_minor": 2
}
